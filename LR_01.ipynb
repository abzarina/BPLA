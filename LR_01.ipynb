{
 "cells": [
  {
   "cell_type": "code",
   "execution_count": 1,
   "metadata": {},
   "outputs": [],
   "source": [
    "import pandas as pd\n",
    "import matplotlib.pyplot as plt\n",
    "import numpy as np"
   ]
  },
  {
   "attachments": {},
   "cell_type": "markdown",
   "metadata": {},
   "source": [
    "## Статическая ошибка"
   ]
  },
  {
   "attachments": {},
   "cell_type": "markdown",
   "metadata": {},
   "source": [
    "Подготовка данных"
   ]
  },
  {
   "cell_type": "code",
   "execution_count": 2,
   "metadata": {},
   "outputs": [],
   "source": [
    "static_df = pd.read_csv(\"SavedData/NavData__20231125_14h_13m_40s.txt\", sep=\"  \", engine='python')\n",
    "cropped_static_df = static_df[[\"OmegaX[°/s]\", \"OmegaY[°/s]\", \"OmegaZ[°/s]\", \"fX[m/s/s]\", \"fY[m/s/s]\", \"fZ[m/s/s]\"]]"
   ]
  },
  {
   "cell_type": "code",
   "execution_count": 3,
   "metadata": {},
   "outputs": [
    {
     "name": "stderr",
     "output_type": "stream",
     "text": [
      "/Library/Frameworks/Python.framework/Versions/3.7/lib/python3.7/site-packages/ipykernel_launcher.py:3: SettingWithCopyWarning: \n",
      "A value is trying to be set on a copy of a slice from a DataFrame.\n",
      "Try using .loc[row_indexer,col_indexer] = value instead\n",
      "\n",
      "See the caveats in the documentation: https://pandas.pydata.org/pandas-docs/stable/user_guide/indexing.html#returning-a-view-versus-a-copy\n",
      "  This is separate from the ipykernel package so we can avoid doing imports until\n"
     ]
    }
   ],
   "source": [
    "cols_to_replace = ['OmegaX[°/s]', 'OmegaY[°/s]', 'OmegaZ[°/s]', 'fX[m/s/s]', 'fY[m/s/s]', 'fZ[m/s/s]']\n",
    "for col in cropped_static_df:\n",
    "    cropped_static_df[col] = cropped_static_df[col].str.replace(',', '.').astype(float)"
   ]
  },
  {
   "attachments": {},
   "cell_type": "markdown",
   "metadata": {},
   "source": [
    "Возьмем среднее значение по всем столбцам"
   ]
  },
  {
   "cell_type": "code",
   "execution_count": 4,
   "metadata": {},
   "outputs": [],
   "source": [
    "static_error = pd.DataFrame(cropped_static_df.mean(), columns=['static_mean_rough']).T"
   ]
  },
  {
   "attachments": {},
   "cell_type": "markdown",
   "metadata": {},
   "source": [
    "Расчитаем проекции на оси:"
   ]
  },
  {
   "cell_type": "code",
   "execution_count": 5,
   "metadata": {},
   "outputs": [],
   "source": [
    "new_row = []\n",
    "new_row.append(static_error['OmegaX[°/s]']['static_mean_rough'] * np.sin(70/180 * np.pi) + static_error['OmegaY[°/s]']['static_mean_rough'] * np.cos(70/180 * np.pi))\n",
    "new_row.append(static_error['OmegaX[°/s]']['static_mean_rough'] * np.cos(70/180 * np.pi) + static_error['OmegaY[°/s]']['static_mean_rough'] * np.sin(70/180 * np.pi))\n",
    "new_row.append(static_error['OmegaZ[°/s]']['static_mean_rough'])\n",
    "new_row.append(static_error['fX[m/s/s]']['static_mean_rough'] * np.sin(70/180 * np.pi) + static_error['fY[m/s/s]']['static_mean_rough'] * np.cos(70/180 * np.pi))\n",
    "new_row.append(static_error['fX[m/s/s]']['static_mean_rough'] * np.cos(70/180 * np.pi) + static_error['fY[m/s/s]']['static_mean_rough'] * np.sin(70/180 * np.pi))\n",
    "new_row.append(static_error['fZ[m/s/s]']['static_mean_rough'])"
   ]
  },
  {
   "attachments": {},
   "cell_type": "markdown",
   "metadata": {},
   "source": [
    "Рассмотрим истинные значения"
   ]
  },
  {
   "cell_type": "code",
   "execution_count": 6,
   "metadata": {},
   "outputs": [],
   "source": [
    "true_values = [15.05 / 3600 * np.sin(55.5/180 * np.pi),\n",
    "               15.05 / 3600 * np.cos(55.5/180 * np.pi),\n",
    "               0,\n",
    "               0,\n",
    "               0,\n",
    "               9.8155]"
   ]
  },
  {
   "attachments": {},
   "cell_type": "markdown",
   "metadata": {},
   "source": [
    "Получим разницу"
   ]
  },
  {
   "cell_type": "code",
   "execution_count": 7,
   "metadata": {},
   "outputs": [],
   "source": [
    "delta = [abs(new_row[i] - true_values[i]) for i in range(len(new_row))]"
   ]
  },
  {
   "cell_type": "code",
   "execution_count": 8,
   "metadata": {},
   "outputs": [],
   "source": [
    "static_error = pd.DataFrame(cropped_static_df.mean(), columns=['static_mean_rough']).T"
   ]
  },
  {
   "cell_type": "code",
   "execution_count": 9,
   "metadata": {},
   "outputs": [],
   "source": [
    "static_error = static_error.append(pd.DataFrame(new_row, columns=['static_mean'], index=cols_to_replace).T)\n",
    "static_error = static_error.append(pd.DataFrame(true_values, columns=['true_values'], index=cols_to_replace).T)\n",
    "static_error = static_error.append(pd.DataFrame(delta, columns=['delta_static'], index=cols_to_replace).T)"
   ]
  },
  {
   "cell_type": "code",
   "execution_count": 10,
   "metadata": {},
   "outputs": [
    {
     "data": {
      "text/html": [
       "<div>\n",
       "<style scoped>\n",
       "    .dataframe tbody tr th:only-of-type {\n",
       "        vertical-align: middle;\n",
       "    }\n",
       "\n",
       "    .dataframe tbody tr th {\n",
       "        vertical-align: top;\n",
       "    }\n",
       "\n",
       "    .dataframe thead th {\n",
       "        text-align: right;\n",
       "    }\n",
       "</style>\n",
       "<table border=\"1\" class=\"dataframe\">\n",
       "  <thead>\n",
       "    <tr style=\"text-align: right;\">\n",
       "      <th></th>\n",
       "      <th>OmegaX[°/s]</th>\n",
       "      <th>OmegaY[°/s]</th>\n",
       "      <th>OmegaZ[°/s]</th>\n",
       "      <th>fX[m/s/s]</th>\n",
       "      <th>fY[m/s/s]</th>\n",
       "      <th>fZ[m/s/s]</th>\n",
       "    </tr>\n",
       "  </thead>\n",
       "  <tbody>\n",
       "    <tr>\n",
       "      <th>static_mean_rough</th>\n",
       "      <td>-0.259639</td>\n",
       "      <td>-0.406871</td>\n",
       "      <td>-0.482357</td>\n",
       "      <td>-0.326335</td>\n",
       "      <td>0.224587</td>\n",
       "      <td>9.721624</td>\n",
       "    </tr>\n",
       "    <tr>\n",
       "      <th>static_mean</th>\n",
       "      <td>-0.383139</td>\n",
       "      <td>-0.471135</td>\n",
       "      <td>-0.482357</td>\n",
       "      <td>-0.229841</td>\n",
       "      <td>0.099430</td>\n",
       "      <td>9.721624</td>\n",
       "    </tr>\n",
       "    <tr>\n",
       "      <th>true_values</th>\n",
       "      <td>0.003445</td>\n",
       "      <td>0.002368</td>\n",
       "      <td>0.000000</td>\n",
       "      <td>0.000000</td>\n",
       "      <td>0.000000</td>\n",
       "      <td>9.815500</td>\n",
       "    </tr>\n",
       "    <tr>\n",
       "      <th>delta_static</th>\n",
       "      <td>0.386584</td>\n",
       "      <td>0.473503</td>\n",
       "      <td>0.482357</td>\n",
       "      <td>0.229841</td>\n",
       "      <td>0.099430</td>\n",
       "      <td>0.093876</td>\n",
       "    </tr>\n",
       "  </tbody>\n",
       "</table>\n",
       "</div>"
      ],
      "text/plain": [
       "                   OmegaX[°/s]  OmegaY[°/s]  OmegaZ[°/s]  fX[m/s/s]  \\\n",
       "static_mean_rough    -0.259639    -0.406871    -0.482357  -0.326335   \n",
       "static_mean          -0.383139    -0.471135    -0.482357  -0.229841   \n",
       "true_values           0.003445     0.002368     0.000000   0.000000   \n",
       "delta_static          0.386584     0.473503     0.482357   0.229841   \n",
       "\n",
       "                   fY[m/s/s]  fZ[m/s/s]  \n",
       "static_mean_rough   0.224587   9.721624  \n",
       "static_mean         0.099430   9.721624  \n",
       "true_values         0.000000   9.815500  \n",
       "delta_static        0.099430   0.093876  "
      ]
     },
     "execution_count": 10,
     "metadata": {},
     "output_type": "execute_result"
    }
   ],
   "source": [
    "static_error"
   ]
  },
  {
   "attachments": {},
   "cell_type": "markdown",
   "metadata": {},
   "source": [
    "## От запуска, к запуску"
   ]
  },
  {
   "cell_type": "code",
   "execution_count": 11,
   "metadata": {},
   "outputs": [],
   "source": [
    "datapath = ['SavedData/NavData__20231209_15h_07m_48s_converted.txt',\n",
    "        'SavedData/NavData__20231209_15h_09m_46s_converted.txt',\n",
    "        'SavedData/NavData__20231209_15h_11m_06s_converted.txt',\n",
    "        'SavedData/NavData__20231209_15h_13m_15s_converted.txt',\n",
    "        'SavedData/NavData__20231209_15h_14m_34s_converted.txt']\n",
    "\n",
    "cols = ['OmegaX[°/s]', 'OmegaY[°/s]', 'OmegaZ[°/s]', 'fX[m/s/s]', 'fY[m/s/s]', 'fZ[m/s/s]']\n",
    "\n",
    "run_to_run_error = pd.DataFrame(columns=cols)"
   ]
  },
  {
   "attachments": {},
   "cell_type": "markdown",
   "metadata": {},
   "source": [
    "Среднее значение по каждому из файлов"
   ]
  },
  {
   "cell_type": "code",
   "execution_count": 12,
   "metadata": {},
   "outputs": [
    {
     "name": "stderr",
     "output_type": "stream",
     "text": [
      "/Library/Frameworks/Python.framework/Versions/3.7/lib/python3.7/site-packages/pandas/util/_decorators.py:311: ParserWarning: Falling back to the 'python' engine because the 'c' engine does not support regex separators (separators > 1 char and different from '\\s+' are interpreted as regex); you can avoid this warning by specifying engine='python'.\n",
      "  return func(*args, **kwargs)\n"
     ]
    }
   ],
   "source": [
    "for idx in range(len(datapath)):\n",
    "    run_to_run = pd.read_csv(datapath[idx], sep = \"  \", encoding='unicode_escape')[cols]\n",
    "    mean_row = pd.DataFrame(run_to_run.mean(), columns=[f'mean_file_{idx+1}']).T\n",
    "    run_to_run_error = run_to_run_error.append(mean_row)"
   ]
  },
  {
   "attachments": {},
   "cell_type": "markdown",
   "metadata": {},
   "source": [
    "Среднее значение по всем файлам"
   ]
  },
  {
   "cell_type": "code",
   "execution_count": 13,
   "metadata": {},
   "outputs": [],
   "source": [
    "mean_row = pd.DataFrame(run_to_run_error.mean(), columns=['mean']).T\n",
    "run_to_run_error = run_to_run_error.append(mean_row)"
   ]
  },
  {
   "cell_type": "code",
   "execution_count": 14,
   "metadata": {},
   "outputs": [],
   "source": [
    "run_to_run_error = run_to_run_error.append(pd.DataFrame(true_values, columns=['true_values'], index=cols).T)"
   ]
  },
  {
   "attachments": {},
   "cell_type": "markdown",
   "metadata": {},
   "source": [
    "Вычтем истинные значения"
   ]
  },
  {
   "cell_type": "code",
   "execution_count": 15,
   "metadata": {},
   "outputs": [],
   "source": [
    "delta_run_to_run = run_to_run_error.diff()\n",
    "diff_rows = delta_run_to_run.iloc[[6]]\n",
    "diff_rows = diff_rows.apply(lambda x: abs(x))\n",
    "diff_rows.rename(index={'true_values':'run_to_run'}, inplace=True)\n",
    "run_to_run_error = run_to_run_error.append(diff_rows)"
   ]
  },
  {
   "cell_type": "code",
   "execution_count": 17,
   "metadata": {},
   "outputs": [],
   "source": [
    "run_to_run_error = run_to_run_error.append(static_error.iloc[[3]])\n",
    "delta_run_to_run = run_to_run_error.diff()\n",
    "diff_rows = delta_run_to_run.iloc[[8]]\n",
    "diff_rows = diff_rows.apply(lambda x: abs(x))\n",
    "diff_rows.rename(index={'delta_static':'delta_run_to_run'}, inplace=True)\n",
    "run_to_run_error = run_to_run_error.append(diff_rows)"
   ]
  },
  {
   "cell_type": "code",
   "execution_count": 18,
   "metadata": {},
   "outputs": [
    {
     "data": {
      "text/html": [
       "<div>\n",
       "<style scoped>\n",
       "    .dataframe tbody tr th:only-of-type {\n",
       "        vertical-align: middle;\n",
       "    }\n",
       "\n",
       "    .dataframe tbody tr th {\n",
       "        vertical-align: top;\n",
       "    }\n",
       "\n",
       "    .dataframe thead th {\n",
       "        text-align: right;\n",
       "    }\n",
       "</style>\n",
       "<table border=\"1\" class=\"dataframe\">\n",
       "  <thead>\n",
       "    <tr style=\"text-align: right;\">\n",
       "      <th></th>\n",
       "      <th>OmegaX[°/s]</th>\n",
       "      <th>OmegaY[°/s]</th>\n",
       "      <th>OmegaZ[°/s]</th>\n",
       "      <th>fX[m/s/s]</th>\n",
       "      <th>fY[m/s/s]</th>\n",
       "      <th>fZ[m/s/s]</th>\n",
       "    </tr>\n",
       "  </thead>\n",
       "  <tbody>\n",
       "    <tr>\n",
       "      <th>mean_file_1</th>\n",
       "      <td>-0.224272</td>\n",
       "      <td>-0.364186</td>\n",
       "      <td>-0.558750</td>\n",
       "      <td>0.092600</td>\n",
       "      <td>0.009795</td>\n",
       "      <td>9.730271</td>\n",
       "    </tr>\n",
       "    <tr>\n",
       "      <th>mean_file_2</th>\n",
       "      <td>-0.225918</td>\n",
       "      <td>-0.330289</td>\n",
       "      <td>-0.537751</td>\n",
       "      <td>0.100827</td>\n",
       "      <td>-0.016662</td>\n",
       "      <td>9.730885</td>\n",
       "    </tr>\n",
       "    <tr>\n",
       "      <th>mean_file_3</th>\n",
       "      <td>-0.245540</td>\n",
       "      <td>-0.330819</td>\n",
       "      <td>-0.530966</td>\n",
       "      <td>0.102854</td>\n",
       "      <td>-0.029234</td>\n",
       "      <td>9.734250</td>\n",
       "    </tr>\n",
       "    <tr>\n",
       "      <th>mean_file_4</th>\n",
       "      <td>-0.231802</td>\n",
       "      <td>-0.331570</td>\n",
       "      <td>-0.533101</td>\n",
       "      <td>0.098835</td>\n",
       "      <td>-0.023822</td>\n",
       "      <td>9.742209</td>\n",
       "    </tr>\n",
       "    <tr>\n",
       "      <th>mean_file_5</th>\n",
       "      <td>-0.229336</td>\n",
       "      <td>-0.353223</td>\n",
       "      <td>-0.558740</td>\n",
       "      <td>0.099922</td>\n",
       "      <td>-0.025765</td>\n",
       "      <td>9.729538</td>\n",
       "    </tr>\n",
       "    <tr>\n",
       "      <th>mean</th>\n",
       "      <td>-0.231374</td>\n",
       "      <td>-0.342017</td>\n",
       "      <td>-0.543861</td>\n",
       "      <td>0.099008</td>\n",
       "      <td>-0.017138</td>\n",
       "      <td>9.733431</td>\n",
       "    </tr>\n",
       "    <tr>\n",
       "      <th>true_values</th>\n",
       "      <td>0.003445</td>\n",
       "      <td>0.002368</td>\n",
       "      <td>0.000000</td>\n",
       "      <td>0.000000</td>\n",
       "      <td>0.000000</td>\n",
       "      <td>9.815500</td>\n",
       "    </tr>\n",
       "    <tr>\n",
       "      <th>run_to_run</th>\n",
       "      <td>0.234819</td>\n",
       "      <td>0.344385</td>\n",
       "      <td>0.543861</td>\n",
       "      <td>0.099008</td>\n",
       "      <td>0.017138</td>\n",
       "      <td>0.082069</td>\n",
       "    </tr>\n",
       "    <tr>\n",
       "      <th>delta_static</th>\n",
       "      <td>0.386584</td>\n",
       "      <td>0.473503</td>\n",
       "      <td>0.482357</td>\n",
       "      <td>0.229841</td>\n",
       "      <td>0.099430</td>\n",
       "      <td>0.093876</td>\n",
       "    </tr>\n",
       "    <tr>\n",
       "      <th>delta_run_to_run</th>\n",
       "      <td>0.151765</td>\n",
       "      <td>0.129118</td>\n",
       "      <td>0.061504</td>\n",
       "      <td>0.130834</td>\n",
       "      <td>0.082292</td>\n",
       "      <td>0.011806</td>\n",
       "    </tr>\n",
       "  </tbody>\n",
       "</table>\n",
       "</div>"
      ],
      "text/plain": [
       "                  OmegaX[°/s]  OmegaY[°/s]  OmegaZ[°/s]  fX[m/s/s]  fY[m/s/s]  \\\n",
       "mean_file_1         -0.224272    -0.364186    -0.558750   0.092600   0.009795   \n",
       "mean_file_2         -0.225918    -0.330289    -0.537751   0.100827  -0.016662   \n",
       "mean_file_3         -0.245540    -0.330819    -0.530966   0.102854  -0.029234   \n",
       "mean_file_4         -0.231802    -0.331570    -0.533101   0.098835  -0.023822   \n",
       "mean_file_5         -0.229336    -0.353223    -0.558740   0.099922  -0.025765   \n",
       "mean                -0.231374    -0.342017    -0.543861   0.099008  -0.017138   \n",
       "true_values          0.003445     0.002368     0.000000   0.000000   0.000000   \n",
       "run_to_run           0.234819     0.344385     0.543861   0.099008   0.017138   \n",
       "delta_static         0.386584     0.473503     0.482357   0.229841   0.099430   \n",
       "delta_run_to_run     0.151765     0.129118     0.061504   0.130834   0.082292   \n",
       "\n",
       "                  fZ[m/s/s]  \n",
       "mean_file_1        9.730271  \n",
       "mean_file_2        9.730885  \n",
       "mean_file_3        9.734250  \n",
       "mean_file_4        9.742209  \n",
       "mean_file_5        9.729538  \n",
       "mean               9.733431  \n",
       "true_values        9.815500  \n",
       "run_to_run         0.082069  \n",
       "delta_static       0.093876  \n",
       "delta_run_to_run   0.011806  "
      ]
     },
     "execution_count": 18,
     "metadata": {},
     "output_type": "execute_result"
    }
   ],
   "source": [
    "run_to_run_error"
   ]
  },
  {
   "attachments": {},
   "cell_type": "markdown",
   "metadata": {},
   "source": [
    "## В течение работы"
   ]
  },
  {
   "cell_type": "code",
   "execution_count": 20,
   "metadata": {},
   "outputs": [],
   "source": [
    "in_run_error = pd.DataFrame(columns=cols)\n",
    "in_run = pd.read_csv('SavedData/NavData__20231209_15h_00m_51s_converted.txt', sep = \"  \", encoding='unicode_escape')[cols]\n",
    "mean_row = pd.DataFrame(in_run.mean(), columns=['mean']).T\n",
    "in_run_error = in_run_error.append(mean_row)\n",
    "in_run_error = in_run_error.append(pd.DataFrame(true_values, columns=['true_values'], index=cols).T)\n",
    "in_run_error = in_run_error.append(static_error.iloc[[3]])\n",
    "in_run_error = in_run_error.append(run_to_run_error.iloc[[9]])"
   ]
  },
  {
   "cell_type": "code",
   "execution_count": 21,
   "metadata": {},
   "outputs": [
    {
     "data": {
      "text/html": [
       "<div>\n",
       "<style scoped>\n",
       "    .dataframe tbody tr th:only-of-type {\n",
       "        vertical-align: middle;\n",
       "    }\n",
       "\n",
       "    .dataframe tbody tr th {\n",
       "        vertical-align: top;\n",
       "    }\n",
       "\n",
       "    .dataframe thead th {\n",
       "        text-align: right;\n",
       "    }\n",
       "</style>\n",
       "<table border=\"1\" class=\"dataframe\">\n",
       "  <thead>\n",
       "    <tr style=\"text-align: right;\">\n",
       "      <th></th>\n",
       "      <th>OmegaX[°/s]</th>\n",
       "      <th>OmegaY[°/s]</th>\n",
       "      <th>OmegaZ[°/s]</th>\n",
       "      <th>fX[m/s/s]</th>\n",
       "      <th>fY[m/s/s]</th>\n",
       "      <th>fZ[m/s/s]</th>\n",
       "    </tr>\n",
       "  </thead>\n",
       "  <tbody>\n",
       "    <tr>\n",
       "      <th>mean</th>\n",
       "      <td>-0.241779</td>\n",
       "      <td>-0.363720</td>\n",
       "      <td>-0.548172</td>\n",
       "      <td>0.081479</td>\n",
       "      <td>0.045494</td>\n",
       "      <td>9.723654</td>\n",
       "    </tr>\n",
       "    <tr>\n",
       "      <th>true_values</th>\n",
       "      <td>0.003445</td>\n",
       "      <td>0.002368</td>\n",
       "      <td>0.000000</td>\n",
       "      <td>0.000000</td>\n",
       "      <td>0.000000</td>\n",
       "      <td>9.815500</td>\n",
       "    </tr>\n",
       "    <tr>\n",
       "      <th>delta_static</th>\n",
       "      <td>0.386584</td>\n",
       "      <td>0.473503</td>\n",
       "      <td>0.482357</td>\n",
       "      <td>0.229841</td>\n",
       "      <td>0.099430</td>\n",
       "      <td>0.093876</td>\n",
       "    </tr>\n",
       "    <tr>\n",
       "      <th>delta_run_to_run</th>\n",
       "      <td>0.151765</td>\n",
       "      <td>0.129118</td>\n",
       "      <td>0.061504</td>\n",
       "      <td>0.130834</td>\n",
       "      <td>0.082292</td>\n",
       "      <td>0.011806</td>\n",
       "    </tr>\n",
       "  </tbody>\n",
       "</table>\n",
       "</div>"
      ],
      "text/plain": [
       "                  OmegaX[°/s]  OmegaY[°/s]  OmegaZ[°/s]  fX[m/s/s]  fY[m/s/s]  \\\n",
       "mean                -0.241779    -0.363720    -0.548172   0.081479   0.045494   \n",
       "true_values          0.003445     0.002368     0.000000   0.000000   0.000000   \n",
       "delta_static         0.386584     0.473503     0.482357   0.229841   0.099430   \n",
       "delta_run_to_run     0.151765     0.129118     0.061504   0.130834   0.082292   \n",
       "\n",
       "                  fZ[m/s/s]  \n",
       "mean               9.723654  \n",
       "true_values        9.815500  \n",
       "delta_static       0.093876  \n",
       "delta_run_to_run   0.011806  "
      ]
     },
     "execution_count": 21,
     "metadata": {},
     "output_type": "execute_result"
    }
   ],
   "source": [
    "in_run_error"
   ]
  }
 ],
 "metadata": {
  "kernelspec": {
   "display_name": "Python 3",
   "language": "python",
   "name": "python3"
  },
  "language_info": {
   "codemirror_mode": {
    "name": "ipython",
    "version": 3
   },
   "file_extension": ".py",
   "mimetype": "text/x-python",
   "name": "python",
   "nbconvert_exporter": "python",
   "pygments_lexer": "ipython3",
   "version": "3.7.9"
  },
  "orig_nbformat": 4
 },
 "nbformat": 4,
 "nbformat_minor": 2
}
